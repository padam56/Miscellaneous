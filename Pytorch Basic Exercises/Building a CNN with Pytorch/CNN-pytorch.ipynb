{
  "nbformat": 4,
  "nbformat_minor": 0,
  "metadata": {
    "kernelspec": {
      "display_name": "Python 3",
      "language": "python",
      "name": "python3"
    },
    "language_info": {
      "codemirror_mode": {
        "name": "ipython",
        "version": 3
      },
      "file_extension": ".py",
      "mimetype": "text/x-python",
      "name": "python",
      "nbconvert_exporter": "python",
      "pygments_lexer": "ipython3",
      "version": "3.6.9"
    },
    "colab": {
      "name": "Build a Convolutional Neural Network.ipynb",
      "provenance": []
    },
    "widgets": {
      "application/vnd.jupyter.widget-state+json": {
        "9fdb355a44e64bf798319012cb3e32dd": {
          "model_module": "@jupyter-widgets/controls",
          "model_name": "HBoxModel",
          "state": {
            "_view_name": "HBoxView",
            "_dom_classes": [],
            "_model_name": "HBoxModel",
            "_view_module": "@jupyter-widgets/controls",
            "_model_module_version": "1.5.0",
            "_view_count": null,
            "_view_module_version": "1.5.0",
            "box_style": "",
            "layout": "IPY_MODEL_b0039c0bf504482b9dd8db89008f9545",
            "_model_module": "@jupyter-widgets/controls",
            "children": [
              "IPY_MODEL_34fbe8264cba46638bdb5636f4f14999",
              "IPY_MODEL_54d568fff2dd4815b84bf5a8a1ce4750"
            ]
          }
        },
        "b0039c0bf504482b9dd8db89008f9545": {
          "model_module": "@jupyter-widgets/base",
          "model_name": "LayoutModel",
          "state": {
            "_view_name": "LayoutView",
            "grid_template_rows": null,
            "right": null,
            "justify_content": null,
            "_view_module": "@jupyter-widgets/base",
            "overflow": null,
            "_model_module_version": "1.2.0",
            "_view_count": null,
            "flex_flow": null,
            "width": null,
            "min_width": null,
            "border": null,
            "align_items": null,
            "bottom": null,
            "_model_module": "@jupyter-widgets/base",
            "top": null,
            "grid_column": null,
            "overflow_y": null,
            "overflow_x": null,
            "grid_auto_flow": null,
            "grid_area": null,
            "grid_template_columns": null,
            "flex": null,
            "_model_name": "LayoutModel",
            "justify_items": null,
            "grid_row": null,
            "max_height": null,
            "align_content": null,
            "visibility": null,
            "align_self": null,
            "height": null,
            "min_height": null,
            "padding": null,
            "grid_auto_rows": null,
            "grid_gap": null,
            "max_width": null,
            "order": null,
            "_view_module_version": "1.2.0",
            "grid_template_areas": null,
            "object_position": null,
            "object_fit": null,
            "grid_auto_columns": null,
            "margin": null,
            "display": null,
            "left": null
          }
        },
        "34fbe8264cba46638bdb5636f4f14999": {
          "model_module": "@jupyter-widgets/controls",
          "model_name": "FloatProgressModel",
          "state": {
            "_view_name": "ProgressView",
            "style": "IPY_MODEL_b9633a85cfde49bf9a1561dfe4d78171",
            "_dom_classes": [],
            "description": "",
            "_model_name": "FloatProgressModel",
            "bar_style": "success",
            "max": 170498071,
            "_view_module": "@jupyter-widgets/controls",
            "_model_module_version": "1.5.0",
            "value": 170498071,
            "_view_count": null,
            "_view_module_version": "1.5.0",
            "orientation": "horizontal",
            "min": 0,
            "description_tooltip": null,
            "_model_module": "@jupyter-widgets/controls",
            "layout": "IPY_MODEL_884ce08b5297410198da45af1691401e"
          }
        },
        "54d568fff2dd4815b84bf5a8a1ce4750": {
          "model_module": "@jupyter-widgets/controls",
          "model_name": "HTMLModel",
          "state": {
            "_view_name": "HTMLView",
            "style": "IPY_MODEL_1e3c9efbd9a94f8b8d8222edebd8e6e5",
            "_dom_classes": [],
            "description": "",
            "_model_name": "HTMLModel",
            "placeholder": "​",
            "_view_module": "@jupyter-widgets/controls",
            "_model_module_version": "1.5.0",
            "value": " 170499072/? [00:06&lt;00:00, 24708571.50it/s]",
            "_view_count": null,
            "_view_module_version": "1.5.0",
            "description_tooltip": null,
            "_model_module": "@jupyter-widgets/controls",
            "layout": "IPY_MODEL_6fa407859ac040f1bc1cce20b969ce5d"
          }
        },
        "b9633a85cfde49bf9a1561dfe4d78171": {
          "model_module": "@jupyter-widgets/controls",
          "model_name": "ProgressStyleModel",
          "state": {
            "_view_name": "StyleView",
            "_model_name": "ProgressStyleModel",
            "description_width": "initial",
            "_view_module": "@jupyter-widgets/base",
            "_model_module_version": "1.5.0",
            "_view_count": null,
            "_view_module_version": "1.2.0",
            "bar_color": null,
            "_model_module": "@jupyter-widgets/controls"
          }
        },
        "884ce08b5297410198da45af1691401e": {
          "model_module": "@jupyter-widgets/base",
          "model_name": "LayoutModel",
          "state": {
            "_view_name": "LayoutView",
            "grid_template_rows": null,
            "right": null,
            "justify_content": null,
            "_view_module": "@jupyter-widgets/base",
            "overflow": null,
            "_model_module_version": "1.2.0",
            "_view_count": null,
            "flex_flow": null,
            "width": null,
            "min_width": null,
            "border": null,
            "align_items": null,
            "bottom": null,
            "_model_module": "@jupyter-widgets/base",
            "top": null,
            "grid_column": null,
            "overflow_y": null,
            "overflow_x": null,
            "grid_auto_flow": null,
            "grid_area": null,
            "grid_template_columns": null,
            "flex": null,
            "_model_name": "LayoutModel",
            "justify_items": null,
            "grid_row": null,
            "max_height": null,
            "align_content": null,
            "visibility": null,
            "align_self": null,
            "height": null,
            "min_height": null,
            "padding": null,
            "grid_auto_rows": null,
            "grid_gap": null,
            "max_width": null,
            "order": null,
            "_view_module_version": "1.2.0",
            "grid_template_areas": null,
            "object_position": null,
            "object_fit": null,
            "grid_auto_columns": null,
            "margin": null,
            "display": null,
            "left": null
          }
        },
        "1e3c9efbd9a94f8b8d8222edebd8e6e5": {
          "model_module": "@jupyter-widgets/controls",
          "model_name": "DescriptionStyleModel",
          "state": {
            "_view_name": "StyleView",
            "_model_name": "DescriptionStyleModel",
            "description_width": "",
            "_view_module": "@jupyter-widgets/base",
            "_model_module_version": "1.5.0",
            "_view_count": null,
            "_view_module_version": "1.2.0",
            "_model_module": "@jupyter-widgets/controls"
          }
        },
        "6fa407859ac040f1bc1cce20b969ce5d": {
          "model_module": "@jupyter-widgets/base",
          "model_name": "LayoutModel",
          "state": {
            "_view_name": "LayoutView",
            "grid_template_rows": null,
            "right": null,
            "justify_content": null,
            "_view_module": "@jupyter-widgets/base",
            "overflow": null,
            "_model_module_version": "1.2.0",
            "_view_count": null,
            "flex_flow": null,
            "width": null,
            "min_width": null,
            "border": null,
            "align_items": null,
            "bottom": null,
            "_model_module": "@jupyter-widgets/base",
            "top": null,
            "grid_column": null,
            "overflow_y": null,
            "overflow_x": null,
            "grid_auto_flow": null,
            "grid_area": null,
            "grid_template_columns": null,
            "flex": null,
            "_model_name": "LayoutModel",
            "justify_items": null,
            "grid_row": null,
            "max_height": null,
            "align_content": null,
            "visibility": null,
            "align_self": null,
            "height": null,
            "min_height": null,
            "padding": null,
            "grid_auto_rows": null,
            "grid_gap": null,
            "max_width": null,
            "order": null,
            "_view_module_version": "1.2.0",
            "grid_template_areas": null,
            "object_position": null,
            "object_fit": null,
            "grid_auto_columns": null,
            "margin": null,
            "display": null,
            "left": null
          }
        }
      }
    },
    "accelerator": "TPU"
  },
  "cells": [
    {
      "cell_type": "markdown",
      "metadata": {
        "id": "DNP-cPzz0yhT"
      },
      "source": [
        "### Welcome to Deep Learning with PyTorch Series of project \n",
        "\n",
        "- Deep Learning with PyTorch : Build a Neural Network \n",
        "- **Deep Learning with PyTorch : Convolutional Neural Network**\n",
        "- Deep Learning with PyTorch : Neural Style Transfer\n",
        "- Many more coming"
      ]
    },
    {
      "cell_type": "markdown",
      "metadata": {
        "id": "SAqxLiaS0yhU"
      },
      "source": [
        "# Deep Learning with PyTorch : Build a Convolutional Neural Network"
      ]
    },
    {
      "cell_type": "code",
      "metadata": {
        "id": "AnMR9ryS0yhW"
      },
      "source": [
        "import numpy as np \n",
        "import matplotlib.pyplot as plt\n",
        "import torch "
      ],
      "execution_count": 1,
      "outputs": []
    },
    {
      "cell_type": "markdown",
      "metadata": {
        "id": "PtNYXUUf0yhX"
      },
      "source": [
        "## Task 1 : Load CIFAR-10 Dataset"
      ]
    },
    {
      "cell_type": "markdown",
      "metadata": {
        "id": "VJ4e9nJu0yhX"
      },
      "source": [
        "![](cifar-10.png)"
      ]
    },
    {
      "cell_type": "markdown",
      "metadata": {
        "id": "6etFveFM0yhY"
      },
      "source": [
        "PyTorch transforms : https://pytorch.org/docs/stable/torchvision/transforms.html\n",
        "- **For CIFAR-10 Dataset Channel mean is 0.4914, 0.4822, 0.4465**\n",
        "- **Channel wise Standard Deviation is 0.2470, 0.2435, 0.2616**"
      ]
    },
    {
      "cell_type": "code",
      "metadata": {
        "id": "FkJpbtt-0yha"
      },
      "source": [
        "from torchvision import transforms as T, datasets"
      ],
      "execution_count": 2,
      "outputs": []
    },
    {
      "cell_type": "markdown",
      "metadata": {
        "id": "4ePtXllW0yha"
      },
      "source": [
        "* ToTensor() : converts numpy or PIL images to tensor. It also converts your image dimension to C x H x W because in pytorch for network input channel should be first \n",
        "\n",
        "* Normalize() : Takes channel wise mean-list and channel wise standard deviation-list"
      ]
    },
    {
      "cell_type": "code",
      "metadata": {
        "id": "-VDI9YrU0yhb"
      },
      "source": [
        "data_transforms = T.Compose([\n",
        "    T.ToTensor(), #H x W x C -> C x H x W\n",
        "    T.Normalize(mean = [0.4914, 0.4822, 0.4465], std = [0.2470, 0.2435, 0.2616])\n",
        "])"
      ],
      "execution_count": 3,
      "outputs": []
    },
    {
      "cell_type": "markdown",
      "metadata": {
        "id": "u9gtWsyD0yhc"
      },
      "source": [
        "#### Parameters in datasets submodule\n",
        "\n",
        "* data_path\n",
        "* train : True (to load train set) or False (to load test set)\n",
        "* download : True (to download) or False\n",
        "* transform : to apply transformation on data\n"
      ]
    },
    {
      "cell_type": "markdown",
      "metadata": {
        "id": "6Y36n73W0yhd"
      },
      "source": [
        "CIFAR-10 consists of 60,000 tiny 32 x 32 x 3(RGB) images, labeled with an interger corresponding to 1 of 10 : classes = ('plane', 'car', 'bird', 'cat','deer', 'dog', 'frog', 'horse', 'ship', 'truck')"
      ]
    },
    {
      "cell_type": "code",
      "metadata": {
        "colab": {
          "base_uri": "https://localhost:8080/",
          "height": 140,
          "referenced_widgets": [
            "9fdb355a44e64bf798319012cb3e32dd",
            "b0039c0bf504482b9dd8db89008f9545",
            "34fbe8264cba46638bdb5636f4f14999",
            "54d568fff2dd4815b84bf5a8a1ce4750",
            "b9633a85cfde49bf9a1561dfe4d78171",
            "884ce08b5297410198da45af1691401e",
            "1e3c9efbd9a94f8b8d8222edebd8e6e5",
            "6fa407859ac040f1bc1cce20b969ce5d"
          ]
        },
        "id": "zNkhjYCW0yhd",
        "outputId": "35f2d7fc-1b51-4e91-f622-2901286ad198"
      },
      "source": [
        "train_ds = datasets.CIFAR10('cifar10/', train = True, download = True, transform = data_transforms)\n",
        "test_ds = datasets.CIFAR10('cifar10/', train = False, download = True, transform = data_transforms)"
      ],
      "execution_count": 4,
      "outputs": [
        {
          "output_type": "stream",
          "text": [
            "Downloading https://www.cs.toronto.edu/~kriz/cifar-10-python.tar.gz to cifar10/cifar-10-python.tar.gz\n"
          ],
          "name": "stdout"
        },
        {
          "output_type": "display_data",
          "data": {
            "application/vnd.jupyter.widget-view+json": {
              "model_id": "9fdb355a44e64bf798319012cb3e32dd",
              "version_minor": 0,
              "version_major": 2
            },
            "text/plain": [
              "HBox(children=(FloatProgress(value=0.0, max=170498071.0), HTML(value='')))"
            ]
          },
          "metadata": {
            "tags": []
          }
        },
        {
          "output_type": "stream",
          "text": [
            "\n",
            "Extracting cifar10/cifar-10-python.tar.gz to cifar10/\n",
            "Files already downloaded and verified\n"
          ],
          "name": "stdout"
        }
      ]
    },
    {
      "cell_type": "code",
      "metadata": {
        "colab": {
          "base_uri": "https://localhost:8080/"
        },
        "id": "pQ1Uo2Du0yhe",
        "outputId": "9634d2a5-57d2-4878-e078-4c7811d96898"
      },
      "source": [
        "print(\"Size of train set {}\".format(len(train_ds)))\n",
        "print(\"Size of test set {}\".format(len(test_ds)))"
      ],
      "execution_count": 5,
      "outputs": [
        {
          "output_type": "stream",
          "text": [
            "Size of train set 50000\n",
            "Size of test set 10000\n"
          ],
          "name": "stdout"
        }
      ]
    },
    {
      "cell_type": "markdown",
      "metadata": {
        "id": "xX8y70dI0yhe"
      },
      "source": [
        "## Task 2 : Plot examples from dataset"
      ]
    },
    {
      "cell_type": "code",
      "metadata": {
        "id": "5wYA9rI20yhf"
      },
      "source": [
        "classes = ['plane', 'car', 'bird', 'cat', 'deer', 'dog', 'frog', 'horse', 'ship', 'track']"
      ],
      "execution_count": 6,
      "outputs": []
    },
    {
      "cell_type": "code",
      "metadata": {
        "colab": {
          "base_uri": "https://localhost:8080/",
          "height": 319
        },
        "id": "ZDNBFLkh0yhf",
        "outputId": "c5d7bb31-72f2-4fc7-d024-3a4ff126afbe"
      },
      "source": [
        "index = 99\n",
        "image, label = train_ds[index]\n",
        "#print(image.shape)\n",
        "image = image.permute(1,2,0) #C(0) x H(1) x W(2)\n",
        "#image = image * torch.Tensor([0.2470, 0.2435, 0.2616]) + torch.Tensor([0.4914, 0.4822, 0.4465]) #denormalizing to see the original image, multiplying & passing the channel wise SD and Mean values!\n",
        "#print(image.shape)\n",
        "plt.imshow(image)\n",
        "plt.title(classes[label]);"
      ],
      "execution_count": 7,
      "outputs": [
        {
          "output_type": "stream",
          "text": [
            "Clipping input data to the valid range for imshow with RGB data ([0..1] for floats or [0..255] for integers).\n"
          ],
          "name": "stderr"
        },
        {
          "output_type": "display_data",
          "data": {
            "image/png": "[encoded data removed]",
            "text/plain": [
              "<Figure size 432x288 with 1 Axes>"
            ]
          },
          "metadata": {
            "tags": [],
            "needs_background": "light"
          }
        }
      ]
    },
    {
      "cell_type": "markdown",
      "metadata": {
        "id": "20Ffkfg-0yhf"
      },
      "source": [
        "## Task 3 : Load dataset into batches"
      ]
    },
    {
      "cell_type": "code",
      "metadata": {
        "id": "ZQgvqo9F0yhg"
      },
      "source": [
        "from torch.utils.data import DataLoader, random_split"
      ],
      "execution_count": 8,
      "outputs": []
    },
    {
      "cell_type": "code",
      "metadata": {
        "id": "lh_-5Ro90yhg"
      },
      "source": [
        "train_dataset, valid_dataset = random_split(train_ds, (45000, 5000))"
      ],
      "execution_count": 9,
      "outputs": []
    },
    {
      "cell_type": "code",
      "metadata": {
        "id": "BM_N9OjM0yhg"
      },
      "source": [
        "trainloader = DataLoader(train_dataset, batch_size = 64, shuffle = True)\n",
        "validloader = DataLoader(valid_dataset, batch_size = 64, shuffle = True)\n",
        "testloader  = DataLoader(test_ds, batch_size = 64, shuffle = True)"
      ],
      "execution_count": 10,
      "outputs": []
    },
    {
      "cell_type": "code",
      "metadata": {
        "id": "j4bItXqI0yhh",
        "colab": {
          "base_uri": "https://localhost:8080/"
        },
        "outputId": "5244592f-ece7-4d93-e55e-b05748720822"
      },
      "source": [
        "print(\"Total Batches created in Train Loader : {}\".format(len(trainloader)))\n",
        "print(\"Total Batches created in Train Loader : {}\".format(len(validloader)))\n",
        "print(\"Total Batches created in Train Loader : {}\".format(len(testloader)))\n",
        "print(\"Size of train dataset {}\".format(len(trainloader.dataset)))\n",
        "print(\"Size of train dataset {}\".format(len(validloader.dataset)))\n",
        "print(\"Size of train dataset {}\".format(len(testloader.dataset)))"
      ],
      "execution_count": 11,
      "outputs": [
        {
          "output_type": "stream",
          "text": [
            "Total Batches created in Train Loader : 704\n",
            "Total Batches created in Train Loader : 79\n",
            "Total Batches created in Train Loader : 157\n",
            "Size of train dataset 45000\n",
            "Size of train dataset 5000\n",
            "Size of train dataset 10000\n"
          ],
          "name": "stdout"
        }
      ]
    },
    {
      "cell_type": "code",
      "metadata": {
        "id": "5SOul_b90yhh",
        "colab": {
          "base_uri": "https://localhost:8080/"
        },
        "outputId": "334a8104-8068-4219-8537-3e2d6482f9f8"
      },
      "source": [
        "dataiter = iter(trainloader)\n",
        "\n",
        "images,labels = dataiter.next()\n",
        "\n",
        "print(images.shape)\n",
        "print(labels.shape)"
      ],
      "execution_count": 12,
      "outputs": [
        {
          "output_type": "stream",
          "text": [
            "torch.Size([64, 3, 32, 32])\n",
            "torch.Size([64])\n"
          ],
          "name": "stdout"
        }
      ]
    },
    {
      "cell_type": "markdown",
      "metadata": {
        "id": "mWUWZnjZ0yhh"
      },
      "source": [
        "## Task 4 : Create Convolutional Neural Network "
      ]
    },
    {
      "cell_type": "code",
      "metadata": {
        "id": "LeTYnhey0yhi"
      },
      "source": [
        "from torch import nn\n",
        "import torch.nn.functional as F"
      ],
      "execution_count": 13,
      "outputs": []
    },
    {
      "cell_type": "markdown",
      "metadata": {
        "id": "XXoRR1MZ0yhi"
      },
      "source": [
        "\n",
        "k : kernel_size or filters \n",
        "<br>\n",
        "p : padding \n",
        "<br>\n",
        "s : stride \n",
        "<br>\n",
        "W : Width \n",
        "<br>\n",
        "H : Height \n",
        "\n",
        "\\begin{equation*}\n",
        "For Same padding = \\frac{k - 1}{2} \\\\\n",
        "\\end{equation*}\n",
        "\n",
        "\\begin{equation*}\n",
        "W[next] = \\frac{W[previous] + 2p - k}{s} + 1 \\\\\n",
        "\\end{equation*}\n",
        "\n",
        "\\begin{equation*}\n",
        "H[next] = \\frac{H[previous] + 2p - k}{s} + 1 \\\\\n",
        "\\end{equation*}"
      ]
    },
    {
      "cell_type": "code",
      "metadata": {
        "id": "qwiwnpEI0yhj",
        "colab": {
          "base_uri": "https://localhost:8080/",
          "height": 196
        },
        "outputId": "8647115b-97e2-4ca1-fdb5-1d74b8e63942"
      },
      "source": [
        "'''\n",
        "3 x 32 x 32 (input)\n",
        "\n",
        "       | k = (3,3), p = 1, s = 1 , out_channels = 16,operation = convolutional  #conv1\n",
        "       V activation = relu \n",
        "       \n",
        "16 x 32 x 32\n",
        "\n",
        "       | k = (2,2), s = 2, operation = Max Pooling #maxpool\n",
        "       V \n",
        "       \n",
        "16 x 15 x 15\n",
        "\n",
        "       | k = (3,3), p = 1, s = 1, out_channels = 32, operation = convolutional #conv2\n",
        "       V activation = relu\n",
        "       \n",
        "32 x 15 x 15 \n",
        "\n",
        "       | k = (2,2), s = 2, operation = Max Pooling #maxpool\n",
        "       V \n",
        "       \n",
        "32 x 8 x 8\n",
        "\n",
        "       | k = (3,3), p = 1 , s = 1 , out_channels = 64, operation = convolutional #conv3\n",
        "       V activation = relu \n",
        "       \n",
        "64 x 8 x 8\n",
        "\n",
        "       | k = (2,2), s = 2 , operation = MaxPooling #maxpool\n",
        "       V\n",
        "\n",
        "64 x 4 x  4\n",
        "    \n",
        "       |  operation = Flatten\n",
        "       V\n",
        "500\n",
        "\n",
        "       |  linear,activation = relu #linear1\n",
        "       V\n",
        "\n",
        "128\n",
        "       |  linear,activation = relu #linear2\n",
        "       V\n",
        "\n",
        "10  linear, activation = log_softmax #linear3\n",
        "'''"
      ],
      "execution_count": 14,
      "outputs": [
        {
          "output_type": "execute_result",
          "data": {
            "application/vnd.google.colaboratory.intrinsic+json": {
              "type": "string"
            },
            "text/plain": [
              "'\\n3 x 32 x 32 (input)\\n\\n       | k = (3,3), p = 1, s = 1 , out_channels = 16,operation = convolutional  #conv1\\n       V activation = relu \\n       \\n16 x 32 x 32\\n\\n       | k = (2,2), s = 2, operation = Max Pooling #maxpool\\n       V \\n       \\n16 x 15 x 15\\n\\n       | k = (3,3), p = 1, s = 1, out_channels = 32, operation = convolutional #conv2\\n       V activation = relu\\n       \\n32 x 15 x 15 \\n\\n       | k = (2,2), s = 2, operation = Max Pooling #maxpool\\n       V \\n       \\n32 x 8 x 8\\n\\n       | k = (3,3), p = 1 , s = 1 , out_channels = 64, operation = convolutional #conv3\\n       V activation = relu \\n       \\n64 x 8 x 8\\n\\n       | k = (2,2), s = 2 , operation = MaxPooling #maxpool\\n       V\\n\\n64 x 4 x  4\\n    \\n       |  operation = Flatten\\n       V\\n500\\n\\n       |  linear,activation = relu #linear1\\n       V\\n\\n128\\n       |  linear,activation = relu #linear2\\n       V\\n\\n10  linear, activation = log_softmax #linear3\\n'"
            ]
          },
          "metadata": {
            "tags": []
          },
          "execution_count": 14
        }
      ]
    },
    {
      "cell_type": "code",
      "metadata": {
        "id": "hjdR08bO0yhk"
      },
      "source": [
        "class MyModel(nn.Module):\n",
        "\n",
        "  def __init__(self):\n",
        "    super(MyModel,self).__init__()\n",
        "\n",
        "    self.conv_1 = nn.Conv2d(in_channels=3, out_channels=16, kernel_size=(3,3), padding=1, stride=1)\n",
        "    self.conv_2 = nn.Conv2d(in_channels=16, out_channels=32, kernel_size=(3,3), padding=1, stride=1)\n",
        "    self.conv_3 = nn.Conv2d(in_channels=32, out_channels=64, kernel_size=(3,3), padding=1, stride=1)\n",
        "    self.maxpool = nn.MaxPool2d(kernel_size=(2,2), stride=2)\n",
        "\n",
        "    self.linear_1 = nn.Linear(in_features=1024, out_features=500)\n",
        "    self.linear_2 = nn.Linear(in_features=500, out_features=128)\n",
        "    self.linear_3 = nn.Linear(in_features=128, out_features=10)\n",
        "\n",
        "  def forward(self, images):\n",
        "    #images : 3 x 32 x 32\n",
        "    a1 = self.maxpool(F.relu(self.conv_1(images)))\n",
        "    a2 = self.maxpool(F.relu(self.conv_2(a1)))\n",
        "    a3 = self.maxpool(F.relu(self.conv_3(a2)))\n",
        "    a3 = a3.view(a3.shape[0],-1) #(bs,64*4*4) -> (bs,64*4*4 -> (bs,1024)) #flatten\n",
        "    a4 = F.relu(self.linear_1(a3))\n",
        "    a5 = F.relu(self.linear_2(a4))\n",
        "    a6 = F.log_softmax(self.linear_3(a5), dim=1)\n",
        "\n",
        "    return a6"
      ],
      "execution_count": 15,
      "outputs": []
    },
    {
      "cell_type": "code",
      "metadata": {
        "id": "P8EAVO-G0yhk",
        "colab": {
          "base_uri": "https://localhost:8080/"
        },
        "outputId": "7d3e6223-b942-4b64-d983-2ed563f44564"
      },
      "source": [
        "model = MyModel()\n",
        "model"
      ],
      "execution_count": 16,
      "outputs": [
        {
          "output_type": "execute_result",
          "data": {
            "text/plain": [
              "MyModel(\n",
              "  (conv_1): Conv2d(3, 16, kernel_size=(3, 3), stride=(1, 1), padding=(1, 1))\n",
              "  (conv_2): Conv2d(16, 32, kernel_size=(3, 3), stride=(1, 1), padding=(1, 1))\n",
              "  (conv_3): Conv2d(32, 64, kernel_size=(3, 3), stride=(1, 1), padding=(1, 1))\n",
              "  (maxpool): MaxPool2d(kernel_size=(2, 2), stride=2, padding=0, dilation=1, ceil_mode=False)\n",
              "  (linear_1): Linear(in_features=1024, out_features=500, bias=True)\n",
              "  (linear_2): Linear(in_features=500, out_features=128, bias=True)\n",
              "  (linear_3): Linear(in_features=128, out_features=10, bias=True)\n",
              ")"
            ]
          },
          "metadata": {
            "tags": []
          },
          "execution_count": 16
        }
      ]
    },
    {
      "cell_type": "code",
      "metadata": {
        "id": "ftVTWMiF0yhk"
      },
      "source": [
        "from torchsummary import summary"
      ],
      "execution_count": 17,
      "outputs": []
    },
    {
      "cell_type": "code",
      "metadata": {
        "id": "0aNbQd3h0yhl",
        "colab": {
          "base_uri": "https://localhost:8080/"
        },
        "outputId": "b17f86ef-d5c9-4665-e66b-92919cb39dae"
      },
      "source": [
        "summary(model, input_size= (3,32,32))"
      ],
      "execution_count": 18,
      "outputs": [
        {
          "output_type": "stream",
          "text": [
            "----------------------------------------------------------------\n",
            "        Layer (type)               Output Shape         Param #\n",
            "================================================================\n",
            "            Conv2d-1           [-1, 16, 32, 32]             448\n",
            "         MaxPool2d-2           [-1, 16, 16, 16]               0\n",
            "            Conv2d-3           [-1, 32, 16, 16]           4,640\n",
            "         MaxPool2d-4             [-1, 32, 8, 8]               0\n",
            "            Conv2d-5             [-1, 64, 8, 8]          18,496\n",
            "         MaxPool2d-6             [-1, 64, 4, 4]               0\n",
            "            Linear-7                  [-1, 500]         512,500\n",
            "            Linear-8                  [-1, 128]          64,128\n",
            "            Linear-9                   [-1, 10]           1,290\n",
            "================================================================\n",
            "Total params: 601,502\n",
            "Trainable params: 601,502\n",
            "Non-trainable params: 0\n",
            "----------------------------------------------------------------\n",
            "Input size (MB): 0.01\n",
            "Forward/backward pass size (MB): 0.28\n",
            "Params size (MB): 2.29\n",
            "Estimated Total Size (MB): 2.58\n",
            "----------------------------------------------------------------\n"
          ],
          "name": "stdout"
        }
      ]
    },
    {
      "cell_type": "markdown",
      "metadata": {
        "id": "vrV3YD0a0yhl"
      },
      "source": [
        "## Task 5 : Training loop"
      ]
    },
    {
      "cell_type": "code",
      "metadata": {
        "id": "GVthq0UV0yhl"
      },
      "source": [
        "from torch import optim\n",
        "from utils import multiclass_accuracy\n",
        "from tqdm import tqdm\n",
        "\n",
        "criterion = nn.NLLLoss() #(logps,true_labels)\n",
        "optimizer = optim.Adam(model.parameters(), lr=0.003)\n",
        "epochs = 10"
      ],
      "execution_count": 21,
      "outputs": []
    },
    {
      "cell_type": "code",
      "metadata": {
        "id": "YRrr5Ywl0yhl"
      },
      "source": [
        "for i in range(epochs):\n",
        "  train_loss = 0.0\n",
        "  train_acc = 0.0\n",
        "  valid_loss = 0.0\n",
        "  valid_acc = 0.0\n",
        "\n",
        "  model.train()\n",
        "  \n",
        "  for images, labels in tqdm(trainloader):\n",
        "    \n",
        "    logps = model(images) #output ps\n",
        "    \n",
        "    loss = criterion(logps,labels)\n",
        "    \n",
        "    optimizer.zero_grad()\n",
        "    loss.backward() #dw,db\n",
        "    optimizer.step() #w = w-lr*dw, b = b-lr*db #updating the values of weights and biases\n",
        "\n",
        "    train_loss += loss.item()\n",
        "    ps = torch.exp(logps) #log_softmax -> softmax #removing log from log prob to get the softmax probabilities\n",
        "    train_acc += multiclass_accuracy(ps,labels)\n",
        "  \n",
        "  model.eval() #make sures to switch off the dropout, batch norm\n",
        "\n",
        "  for images, labels in tqdm(validloader):\n",
        "\n",
        "    logps = model(images)\n",
        "    loss = criterion(logps, labels)\n",
        "\n",
        "    valid_loss += loss.item() #adding all the batch loss\n",
        "    ps = torch.exp(logps)\n",
        "    valid_acc += multiclass_accuracy(ps, labels) #ps = probabilities\n",
        "\n",
        "    #avging all trainloss, validloss and accuracies\n",
        "    avg_train_loss = train_loss/len(trainloader)\n",
        "    avg_valid_loss = valid_loss/len(trainloader)\n",
        "    avg_train_acc = train_acc/len(trainloader)\n",
        "    avg_valid_acc = valid_acc/len(trainloader)\n",
        "\n",
        "    print(\"Epoch: {} Train Loss : {:.4f} Train Acc : {:.4f}\".format(i,avg_train_loss, avg_train_acc))\n",
        "    print(\"Epoch: {} Valid Loss : {:.4f} Valid Acc : {:.4f}\".format(i,avg_valid_loss, avg_valid_acc))"
      ],
      "execution_count": null,
      "outputs": []
    },
    {
      "cell_type": "markdown",
      "metadata": {
        "id": "C8rxkF0o0yhm"
      },
      "source": [
        "## Task 6 : Evaluate model "
      ]
    },
    {
      "cell_type": "code",
      "metadata": {
        "id": "SDL0fCbr0yhm"
      },
      "source": [
        "from utils import view_classify"
      ],
      "execution_count": 23,
      "outputs": []
    },
    {
      "cell_type": "code",
      "metadata": {
        "id": "FzD1EFk30yhm",
        "colab": {
          "base_uri": "https://localhost:8080/"
        },
        "outputId": "76c0c77a-4eb6-4311-ad24-3d5b19c8616f"
      },
      "source": [
        "test_loss = 0.0\n",
        "test_acc= 0.0\n",
        "\n",
        "model.eval() #dropout, batchnorm\n",
        "\n",
        "for images, labels in tqdm(testloader):\n",
        "\n",
        "    logps = model(images)\n",
        "    loss = criterion(logps, labels)\n",
        "    test_loss += loss.item() #adding all the batch loss\n",
        "    ps = torch.exp(logps)\n",
        "    test_acc += multiclass_accuracy(ps, labels)\n",
        "\n",
        "avg_test_loss = test_loss/len(testloader)\n",
        "avg_test_acc  = test_acc/len(testloader)\n",
        "print(\"Test Loss : {:.4f} Test Acc : {:.4f}\".format(avg_test_loss, avg_test_acc))"
      ],
      "execution_count": 24,
      "outputs": [
        {
          "output_type": "stream",
          "text": [
            "100%|██████████| 157/157 [00:06<00:00, 25.86it/s]"
          ],
          "name": "stderr"
        },
        {
          "output_type": "stream",
          "text": [
            "Test Loss : 1.0923 Test Acc : 0.6949\n"
          ],
          "name": "stdout"
        },
        {
          "output_type": "stream",
          "text": [
            "\n"
          ],
          "name": "stderr"
        }
      ]
    },
    {
      "cell_type": "code",
      "metadata": {
        "id": "-fDCHzYr0yhn",
        "colab": {
          "base_uri": "https://localhost:8080/",
          "height": 243
        },
        "outputId": "cf2d79b6-9bba-48ef-97d5-7397a5550f9b"
      },
      "source": [
        "dataiter = iter(testloader)\n",
        "images, labels = dataiter.next()\n",
        "\n",
        "index = 30\n",
        "logps = model(images[index].unsqueeze(0))\n",
        "ps = torch.exp(logps)\n",
        "\n",
        "view_classify(images[index],ps)"
      ],
      "execution_count": 33,
      "outputs": [
        {
          "output_type": "display_data",
          "data": {
            "image/png": "[encoded data removed]",
            "text/plain": [
              "<Figure size 432x648 with 2 Axes>"
            ]
          },
          "metadata": {
            "tags": [],
            "needs_background": "light"
          }
        }
      ]
    }
  ]
}