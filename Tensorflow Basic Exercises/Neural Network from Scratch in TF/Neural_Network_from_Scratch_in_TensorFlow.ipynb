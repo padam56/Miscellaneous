{
  "nbformat": 4,
  "nbformat_minor": 0,
  "metadata": {
    "kernelspec": {
      "display_name": "Python 3",
      "language": "python",
      "name": "python3"
    },
    "language_info": {
      "codemirror_mode": {
        "name": "ipython",
        "version": 3
      },
      "file_extension": ".py",
      "mimetype": "text/x-python",
      "name": "python",
      "nbconvert_exporter": "python",
      "pygments_lexer": "ipython3",
      "version": "3.7.1"
    },
    "colab": {
      "name": "Neural Network from Scratch in TensorFlow - Complete.ipynb",
      "provenance": [],
      "collapsed_sections": [],
      "toc_visible": true
    }
  },
  "cells": [
    {
      "cell_type": "markdown",
      "metadata": {
        "id": "QmyEvHh35-jM"
      },
      "source": [
        "# Neural Network from Scratch in TensorFlow"
      ]
    },
    {
      "cell_type": "markdown",
      "metadata": {
        "id": "L6pxpS685-jW"
      },
      "source": [
        "# Task 1: Introduction and Importing Libraries"
      ]
    },
    {
      "cell_type": "markdown",
      "metadata": {
        "id": "8UKVvkLX5-jZ"
      },
      "source": [
        "While it's easy to get started with the tensorflow with the keras api, it's still worth understanding how a slightly lower level implementation might work in tensorflow. So, I am going to implement here a Neural network in tf without the high level API like keras and the gradient descent algorithm with the help of TensorFlow's automatic differentiation to solve a multi-class classification problem. Datasets used: MNIST Handwritten digit dataset."
      ]
    },
    {
      "cell_type": "code",
      "metadata": {
        "colab": {
          "base_uri": "https://localhost:8080/"
        },
        "id": "iCTSCHrN5-ja",
        "outputId": "ba223636-5b0e-4a64-cbe8-5d0d1dfd272f"
      },
      "source": [
        "import tensorflow as tf\n",
        "import numpy as np\n",
        "import matplotlib.pyplot as plt\n",
        "import nn_utils\n",
        "%matplotlib inline\n",
        "\n",
        "print('TensorFlow Version:', tf.__version__)"
      ],
      "execution_count": 1,
      "outputs": [
        {
          "output_type": "stream",
          "text": [
            "TensorFlow Version: 2.4.1\n"
          ],
          "name": "stdout"
        }
      ]
    },
    {
      "cell_type": "markdown",
      "metadata": {
        "id": "A6VNWohX5-jc"
      },
      "source": [
        "# Task 2: Initializing Neural Network"
      ]
    },
    {
      "cell_type": "code",
      "metadata": {
        "id": "qJJPmNEN5-jd"
      },
      "source": [
        "class NeuralNetwork:\n",
        "    def __init__(self, layers):\n",
        "        self.layers = layers\n",
        "        self.L = len(layers)\n",
        "        self.num_features = layers[0]\n",
        "        self.num_classes = layers[-1]\n",
        "        \n",
        "        self.W = {} #Keeping track of weights and biases with these 2 dictionaries for different layers.\n",
        "        self.b = {}\n",
        "        \n",
        "        self.dW = {} #Also keeping track of gradients for w and b respectively.\n",
        "        self.db = {}\n",
        "        \n",
        "        self.setup()\n",
        "# The upper code implements (passing the lasyers as a list) => net = NeuralNetwork([10, 100, 10]) #10 features and classes for each eg, 100 units in the hidden layer.\n",
        "    def setup(self):\n",
        "        for i in range(1, self.L): #0\n",
        "            self.W[i] = tf.Variable(tf.random.normal(shape=(self.layers[i], self.layers[i-1]))) #1\n",
        "            self.b[i] = tf.Variable(tf.random.normal(shape=(self.layers[i], 1))) #2\n",
        "#0. For the 1st layer, it's always going to be yours i/p layer which has the features so no need to worry to much about that.             \n",
        "#1. Initializing the weights : The key i simply represents the 2nd layer, or at index[1] bcoz the first one is just the no. of features.\n",
        "#1. Setting the initial random value with random.uniform/normal, and the shape is going to be the number of nodes in this layer(i.e 2nd layer) by the number of nodes in the preceeding layer.\n",
        "#2. Initializing the bias : Bias value is going to be simply broadcasted to the dot product of w & x, so no need to worry about the 2nd dimension..hence 1."
      ],
      "execution_count": 2,
      "outputs": []
    },
    {
      "cell_type": "markdown",
      "metadata": {
        "id": "_h9XspHV5-je"
      },
      "source": [
        "# Task 3: Forward Pass"
      ]
    },
    {
      "cell_type": "markdown",
      "metadata": {
        "id": "SHMyKnQ05-je"
      },
      "source": [
        "Note:\n",
        "1. We already have NN class but we are going to extend here it again just to organize the way so that it can be broken down into different code cells.\n",
        "2. Here, X = batch of examples or initial value for the i/p from which the activation o/p is created through this forward_pass function by taking this X in calulating a linear o/p, activation o/p for the 1st layer, 2nd layer and so on.\n",
        "3. X is going to have here some sort of batch size so the 2nd dimension is going to be the number of features. Say if you have 200 features and 50 examples then the shape of X is going to be 50/200 i.e 0.25, and that is the reason why we are transposing our weights here so Z will become 200 by whatever the number of nodes is there in this layer."
      ]
    },
    {
      "cell_type": "code",
      "metadata": {
        "id": "V72y_LQv5-jf"
      },
      "source": [
        "class NeuralNetwork(NeuralNetwork):\n",
        "    def forward_pass(self, X):\n",
        "        A = tf.convert_to_tensor(X, dtype=tf.float32) #A is X and not a activation function but calling it as A since doing it in a loop.\n",
        "        for i in range(1, self.L): #for each layer calculating the o/p so starting again at index[1] or 2nd layer essentially.\n",
        "            Z = tf.matmul(A, tf.transpose(self.W[i])) + tf.transpose(self.b[i]) #Z = linear o/p, matmul = matrix multiplication of A with transpose of the weight for this particular layer\n",
        "            if i != self.L-1: #If the layer is not the final layer then : passing relu a.f\n",
        "                A = tf.nn.relu(Z)\n",
        "            else:             \n",
        "                A = Z         #But if you're calculating activation for the final layer then A will reset to Z i.e Final Output. Since, the A.F is not going to be used in the next iteration as an i/p or else where in the final layer.\n",
        "        return A              #linear sum => final layer"
      ],
      "execution_count": 3,
      "outputs": []
    },
    {
      "cell_type": "markdown",
      "metadata": {
        "id": "RNYL4Ru05-jf"
      },
      "source": [
        "1. The \"forward pass\" refers to calculation process, values of the output layers from the inputs data. It's traversing through all neurons from first to last layer.\n",
        "2. A loss function is calculated from the output values.\n",
        "3. And then \"backward pass\" refers to process of counting changes in weights (de facto learning), using gradient descent algorithm (or similar). Computation is made from last layer, backward to the first layer.\n",
        "4. Backward and forward pass makes together one \"iteration\".\n",
        "5. During one iteration, you usually pass a subset of the data set, which is called \"mini-batch\" (if you pass all data at once, it is called \"batch\")\n",
        "6. \"Epoch\" means passing the entire data set. One epoch contains number_of_items/batch_size iterations\n",
        "7. The reason will get clearer but the basic idea is that we're going to use softmax cross entropy  with logits to calculate the loss on a batch."
      ]
    },
    {
      "cell_type": "markdown",
      "metadata": {
        "id": "ngIIXwqd5-jg"
      },
      "source": [
        "# Task 4: Computing Loss and Updating Parameters"
      ]
    },
    {
      "cell_type": "markdown",
      "metadata": {
        "id": "UsL7hleN5-jg"
      },
      "source": [
        "So, when we are using our model to train on a dataset, we'll be sending some batches of data and for those batches we will have a forward pass. Based on the result from the forward pass, the final o/p - we will compute loss and that'll be used to a backward propagation. With backward propagation we'll get some gradients back and then we'll use those gradients for parameters 'w' and 'b' for each layer to update the value for those parameters."
      ]
    },
    {
      "cell_type": "code",
      "metadata": {
        "id": "hGJVobcJ5-jh"
      },
      "source": [
        "class NeuralNetwork(NeuralNetwork):\n",
        "    def compute_loss(self, A, Y): #The first arg. needs to be a self since this is a class function. A = Final linear o/p and not a Activation o/p.\n",
        "        loss = tf.nn.softmax_cross_entropy_with_logits(Y, A) #Careful: First arg Y not A!\n",
        "        return tf.reduce_mean(loss) #The above function guesses the loss on the batch but still need to calc. the mean for this.\n",
        "        #return tf.reduce_mean(tf.nn.softmax_cross_entropy_with_logits(Y, A))\n",
        "        #This loss will be used to calc. gradients for parameters w & b for each layer. And then update_params\n",
        "    def update_params(self, lr): #lr=learning rate\n",
        "        for i in range(1, self.L): #updating param. for all the layers except for the i/p layer ofcourse. :D\n",
        "            self.W[i].assign_sub(lr * self.dW[i]) #Assigning a new value i.e all the gradients for this layer\n",
        "            self.b[i].assign_sub(lr * self.db[i]) "
      ],
      "execution_count": 4,
      "outputs": []
    },
    {
      "cell_type": "markdown",
      "metadata": {
        "id": "WQoVLTh65-jh"
      },
      "source": [
        "1. tf.nn.softmax computes the forward propagation through a softmax layer. You use it during evaluation of the model when you compute the probabilities that the model outputs, whereas tf.nn.softmax_cross_entropy_with_logits computes the cost for a softmax layer. It is only used during training.\n",
        "2. In this function you need to provide just the logits and you don't actually need to provide the probability distribution that is done within that loss function.\n",
        "3. The logits are the unnormalized log probabilities output the model (the values output before the softmax normalization is applied to them).\n",
        "4. In contrast, tf.nn.softmax_cross_entropy_with_logits computes the cross entropy of the result after applying the softmax function (but it does it all together in a more mathematically careful way)."
      ]
    },
    {
      "cell_type": "markdown",
      "metadata": {
        "id": "TIiFnrgV5-ji"
      },
      "source": [
        "# Task 5: Predict and Info Functions"
      ]
    },
    {
      "cell_type": "code",
      "metadata": {
        "id": "DPRB0w-J5-ji"
      },
      "source": [
        "class NeuralNetwork(NeuralNetwork):\n",
        "    def predict(self, X): #Just need the examples and return the predictions\n",
        "        A = self.forward_pass(X) #getting the final layers o/p simply by using the forward pass \n",
        "        return tf.argmax(tf.nn.softmax(A), axis=1) #returning the predicted class directory, i.e the index with the max value. Specifier: looking at the argmax for the cols, so set axis = 1.\n",
        "    \n",
        "    def info(self): #Shows the number of params. we have in our NN, features, classes and diff, units in hidden layers\n",
        "        num_params = 0\n",
        "        for i in range(1, self.L):\n",
        "            num_params += self.W[i].shape[0] * self.W[i].shape[1]\n",
        "            num_params += self.b[i].shape[0]\n",
        "        print('Input Features:', self.num_features)\n",
        "        print('Number of Classes:', self.num_classes)\n",
        "        print('Hidden Layers:')\n",
        "        print('--------------')\n",
        "        for i in range(1, self.L-1):\n",
        "            print('Layer {}, Units {}'.format(i, self.layers[i]))\n",
        "        print('--------------')\n",
        "        print('Number of parameters:', num_params)"
      ],
      "execution_count": 5,
      "outputs": []
    },
    {
      "cell_type": "markdown",
      "metadata": {
        "id": "CybL6T-M5-ji"
      },
      "source": [
        "# Task 6: Training on Batch"
      ]
    },
    {
      "cell_type": "markdown",
      "metadata": {
        "id": "KMRN7Ghf5-jj"
      },
      "source": [
        "Main training prcs happens in this function i.e forward pass for a batch, computation of cost or loss on that batch and then doing backpropagation and finding out the gradients and then updating the gradients so "
      ]
    },
    {
      "cell_type": "code",
      "metadata": {
        "id": "yMACO6Jt5-jj"
      },
      "source": [
        "class NeuralNetwork(NeuralNetwork):\n",
        "    def train_on_batch(self, X, Y, lr):  \n",
        "        X = tf.convert_to_tensor(X, dtype=tf.float32) #X(eg) and Y(labels) batches might be in arrays,\n",
        "        Y = tf.convert_to_tensor(Y, dtype=tf.float32)\n",
        "        \n",
        "        with tf.GradientTape(persistent=True) as tape:\n",
        "            A = self.forward_pass(X)\n",
        "            loss = self.compute_loss(A, Y)\n",
        "        for key in self.W.keys(): #calc gradients for all the layers \n",
        "            self.dW[key] = tape.gradient(loss, self.W[key]) #If your loss is j, so ii's dj/dw for that layer\n",
        "            self.db[key] = tape.gradient(loss, self.b[key])\n",
        "        del tape\n",
        "        self.update_params(lr)\n",
        "        \n",
        "        return loss.numpy()"
      ],
      "execution_count": 6,
      "outputs": []
    },
    {
      "cell_type": "markdown",
      "metadata": {
        "id": "a6DeGjSe5-jj"
      },
      "source": [
        "# Task 7: Training on Complete Set"
      ]
    },
    {
      "cell_type": "code",
      "metadata": {
        "id": "TSRZmXBP5-jk"
      },
      "source": [
        "class NeuralNetwork(NeuralNetwork):\n",
        "    def train(self, x_train, y_train, x_test, y_test, epochs, steps_per_epoch, batch_size, lr):\n",
        "        history = {\n",
        "            'val_loss': [],\n",
        "            'train_loss': [],\n",
        "            'val_acc': []\n",
        "        }\n",
        "        \n",
        "        for e in range(0, epochs):\n",
        "            epoch_train_loss = 0.\n",
        "            print('Epoch {}'.format(e), end='.')\n",
        "            for i in range(0, steps_per_epoch):\n",
        "                x_batch = x_train[i*batch_size:(i+1)*batch_size]\n",
        "                y_batch = y_train[i*batch_size:(i+1)*batch_size]\n",
        "                batch_loss = self.train_on_batch(x_batch, y_batch, lr)\n",
        "                epoch_train_loss += batch_loss\n",
        "                \n",
        "                if i%int(steps_per_epoch/10) == 0:\n",
        "                    print(end='.')\n",
        "                    \n",
        "            history['train_loss'].append(epoch_train_loss/steps_per_epoch)\n",
        "            \n",
        "            val_A = self.forward_pass(x_test)\n",
        "            history['val_loss'].append(self.compute_loss(val_A, y_test).numpy())\n",
        "            \n",
        "            val_preds = self.predict(x_test)\n",
        "            history['val_acc'].append(np.mean(np.argmax(y_test, axis=1) == val_preds.numpy()))\n",
        "            print('Val Acc:', history['val_acc'][-1])\n",
        "        return history"
      ],
      "execution_count": 7,
      "outputs": []
    },
    {
      "cell_type": "markdown",
      "metadata": {
        "id": "41gDDlYi5-jk"
      },
      "source": [
        "# Task 8: Application"
      ]
    },
    {
      "cell_type": "code",
      "metadata": {
        "colab": {
          "base_uri": "https://localhost:8080/",
          "height": 322
        },
        "id": "8yHxiOLf5-jk",
        "outputId": "dbb293c0-1568-4936-d2d5-3d4f7eb8e599"
      },
      "source": [
        "(x_train, y_train), (x_test, y_test) = nn_utils.load_data()\n",
        "nn_utils.plot_random_examples(x_train, y_train).show()"
      ],
      "execution_count": 8,
      "outputs": [
        {
          "output_type": "stream",
          "text": [
            "Downloading data from https://storage.googleapis.com/tensorflow/tf-keras-datasets/mnist.npz\n",
            "11493376/11490434 [==============================] - 0s 0us/step\n"
          ],
          "name": "stdout"
        },
        {
          "output_type": "display_data",
          "data": {
            "image/png": "[encoded data removed]",
            "text/plain": [
              "<Figure size 720x360 with 10 Axes>"
            ]
          },
          "metadata": {
            "tags": []
          }
        }
      ]
    },
    {
      "cell_type": "code",
      "metadata": {
        "colab": {
          "base_uri": "https://localhost:8080/"
        },
        "id": "nPKvYDdE5-jl",
        "outputId": "cbe5dcf4-0fe3-4f39-d431-8f01fbcfa10b"
      },
      "source": [
        "net = NeuralNetwork([784, 128, 128, 10])\n",
        "net.info()"
      ],
      "execution_count": 9,
      "outputs": [
        {
          "output_type": "stream",
          "text": [
            "Input Features: 784\n",
            "Number of Classes: 10\n",
            "Hidden Layers:\n",
            "--------------\n",
            "Layer 1, Units 128\n",
            "Layer 2, Units 128\n",
            "--------------\n",
            "Number of parameters: 118282\n"
          ],
          "name": "stdout"
        }
      ]
    },
    {
      "cell_type": "code",
      "metadata": {
        "colab": {
          "base_uri": "https://localhost:8080/"
        },
        "id": "Jk07lccX5-jl",
        "outputId": "cadc543d-8794-48ad-959a-a1b6d93fa96c"
      },
      "source": [
        "batch_size = 120\n",
        "epochs = 5\n",
        "steps_per_epoch = int(x_train.shape[0]/batch_size)\n",
        "lr = 3e-3\n",
        "\n",
        "print('Steps per epoch:', steps_per_epoch)"
      ],
      "execution_count": 10,
      "outputs": [
        {
          "output_type": "stream",
          "text": [
            "Steps per epoch: 500\n"
          ],
          "name": "stdout"
        }
      ]
    },
    {
      "cell_type": "code",
      "metadata": {
        "colab": {
          "base_uri": "https://localhost:8080/"
        },
        "id": "T0_YJ9su5-jl",
        "outputId": "0b07b8a6-8336-4ff6-c4d1-a44d0e1d229a"
      },
      "source": [
        "history = net.train(\n",
        "    x_train, y_train,\n",
        "    x_test, y_test,\n",
        "    epochs, steps_per_epoch,\n",
        "    batch_size, lr\n",
        ")"
      ],
      "execution_count": 11,
      "outputs": [
        {
          "output_type": "stream",
          "text": [
            "Epoch 0...........Val Acc: 0.8035\n",
            "Epoch 1...........Val Acc: 0.8344\n",
            "Epoch 2...........Val Acc: 0.8484\n",
            "Epoch 3...........Val Acc: 0.8525\n",
            "Epoch 4...........Val Acc: 0.8619\n"
          ],
          "name": "stdout"
        }
      ]
    },
    {
      "cell_type": "markdown",
      "metadata": {
        "id": "VdoF_ocG5-jm"
      },
      "source": [
        "# Task 9: Results"
      ]
    },
    {
      "cell_type": "code",
      "metadata": {
        "colab": {
          "base_uri": "https://localhost:8080/",
          "height": 278
        },
        "id": "yY9bqnsf5-jm",
        "outputId": "7ad2b08e-fbd9-4efa-8b38-0f2d99a68cb7"
      },
      "source": [
        "nn_utils.plot_results(history).show()"
      ],
      "execution_count": 12,
      "outputs": [
        {
          "output_type": "display_data",
          "data": {
            "image/png": "[encoded data removed]",
            "text/plain": [
              "<Figure size 864x288 with 2 Axes>"
            ]
          },
          "metadata": {
            "tags": [],
            "needs_background": "light"
          }
        }
      ]
    },
    {
      "cell_type": "code",
      "metadata": {
        "id": "eRciXD6K5-jm"
      },
      "source": [
        "preds = net.predict(x_test)"
      ],
      "execution_count": 13,
      "outputs": []
    },
    {
      "cell_type": "code",
      "metadata": {
        "colab": {
          "base_uri": "https://localhost:8080/",
          "height": 289
        },
        "id": "mjShKA_T5-jn",
        "outputId": "e88c4490-c649-4b2d-a4ea-2246d7d21594"
      },
      "source": [
        "nn_utils.plot_random_examples(x_test, y_test, preds.numpy()).show()"
      ],
      "execution_count": 14,
      "outputs": [
        {
          "output_type": "display_data",
          "data": {
            "image/png": "[encoded data removed]",
            "text/plain": [
              "<Figure size 720x360 with 10 Axes>"
            ]
          },
          "metadata": {
            "tags": []
          }
        }
      ]
    }
  ]
}